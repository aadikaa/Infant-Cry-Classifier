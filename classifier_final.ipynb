{
 "cells": [
  {
   "cell_type": "markdown",
   "metadata": {},
   "source": [
    "#### Setup"
   ]
  },
  {
   "cell_type": "code",
   "execution_count": 91,
   "metadata": {},
   "outputs": [],
   "source": [
    "import torch\n",
    "import torch.nn as nn\n",
    "import matplotlib.pyplot as plt\n",
    "import numpy as np\n",
    "import pandas as pd\n",
    "import os, glob\n",
    "import librosa\n",
    "import librosa.display\n",
    "import IPython\n",
    "from IPython.display import Audio\n",
    "from IPython.display import Image\n",
    "import warnings; warnings.filterwarnings('ignore') #matplot lib complains about librosa"
   ]
  },
  {
   "cell_type": "code",
   "execution_count": 62,
   "metadata": {},
   "outputs": [],
   "source": [
    "import torch\n",
    "import torchaudio\n",
    "import torch.nn as nn\n",
    "import librosa\n",
    "import librosa.display\n",
    "from torch.autograd import Variable\n",
    "from torch.nn import Linear, ReLU, CrossEntropyLoss, Sequential, Conv2d, MaxPool2d, Module, Softmax, BatchNorm2d, Dropout\n",
    "from torch.optim import Adam, SGD\n",
    "from torchsummary import summary"
   ]
  },
  {
   "cell_type": "code",
   "execution_count": 63,
   "metadata": {},
   "outputs": [],
   "source": [
    "import torch\n",
    "import torchaudio\n",
    "import torch.nn as nn\n",
    "import librosa\n",
    "import librosa.display\n",
    "from torch.autograd import Variable\n",
    "from torch.nn import Linear, ReLU, CrossEntropyLoss, Sequential, Conv2d, MaxPool2d, Module, Softmax, BatchNorm2d, Dropout\n",
    "from torch.optim import Adam, SGD\n",
    "from torchsummary import summary"
   ]
  },
  {
   "cell_type": "markdown",
   "metadata": {},
   "source": [
    "## Feature Engineering\n",
    "Before building any sort of predictive models, we not only need data - but we need a usable representation. Enter feature engineering. \n",
    "\n",
    "An audio file can be represented as a time series with the dependent axis being\n",
    "the amplitude of the audio waveform. The waveform of the sound file is all the information we have with which to create features to train our model. However, the shape of a waveform does not carry enough discriminating information, so we need to transform the waveform into a more useable form, pun intended. <br> \n",
    "\n",
    "Sometimes our input dataset _does_ have enough information to train a model to give accurate results - but even then input data should be scrutinized and transformed - this allows us to pick the best model for our features, which is usually much better and different than a model that works on our raw input data.  Proper feature engineering carries advantages not limited to \n",
    "\n",
    " - **More accurate, generalizable models**\n",
    " - **Insight into model's decision-making behaviour**\n",
    " - **Flexibility in choice of models**\n",
    " - **Faster training** \n",
    " \n"
   ]
  },
  {
   "cell_type": "code",
   "execution_count": 64,
   "metadata": {},
   "outputs": [],
   "source": [
    "sample_rate = 8000\n",
    "\n",
    "# Mel Spectrograms are not directly used as a feature in this model\n",
    "# Mel Spectrograms are used in calculating MFCCs, which are a higher-level representation of pitch transition\n",
    "# MFCCs work better - left the mel spectrogram function here in case anyone wants to experiment\n",
    "def feature_melspectrogram(\n",
    "    waveform, \n",
    "    sample_rate,\n",
    "    fft = 512,\n",
    "    winlen = 512,\n",
    "    window='hamming',\n",
    "    hop=256,\n",
    "    mels=128,\n",
    "    ):\n",
    "  \n",
    "    melspectrogram = librosa.feature.melspectrogram(\n",
    "        y=waveform, \n",
    "        sr=sample_rate, \n",
    "        n_fft=fft, \n",
    "        win_length=winlen, \n",
    "        window=window, \n",
    "        hop_length=hop, \n",
    "        n_mels=mels, \n",
    "        fmax=sample_rate/2)\n",
    "    \n",
    "    # convert from power (amplitude**2) to decibels\n",
    "    # necessary for network to learn - doesn't converge with raw power spectrograms \n",
    "    melspectrogram = librosa.power_to_db(melspectrogram, ref=np.max)\n",
    "\n",
    "    return melspectrogram\n",
    "\n",
    "\n",
    "def feature_mfcc(\n",
    "    waveform, \n",
    "    sample_rate,\n",
    "    n_mfcc = 128,\n",
    "    fft = 512,\n",
    "    winlen = 512,\n",
    "    window='hamming',\n",
    "    hop=256, # increases # of time steps; was not helpful\n",
    "    mels=128\n",
    "    ):\n",
    "\n",
    "    # Compute the MFCCs for all STFT frames \n",
    "    # 40 mel filterbanks (n_mfcc) = 40 coefficients\n",
    "    mfc_coefficients=librosa.feature.mfcc(\n",
    "        y=waveform, \n",
    "        sr=sample_rate, \n",
    "        n_mfcc=n_mfcc,\n",
    "        n_fft=fft, \n",
    "        win_length=winlen, \n",
    "        window=window, \n",
    "        hop_length=hop, \n",
    "        n_mels=mels, \n",
    "        fmax=sample_rate/2\n",
    "        ) \n",
    "\n",
    "    return mfc_coefficients\n",
    "\n",
    "def get_features(waveforms, features, samplerate):\n",
    "\n",
    "    # initialize counter to track progress\n",
    "    file_count = 0\n",
    "\n",
    "    # process each waveform individually to get its MFCCs\n",
    "    for waveform in waveforms:\n",
    "        mfccs = feature_mfcc(waveform, sample_rate)\n",
    "        features.append(mfccs)\n",
    "        file_count += 1\n",
    "        # print progress \n",
    "        print('\\r'+f' Processed {file_count}/{len(waveforms)} waveforms',end='')\n",
    "    \n",
    "    # return all features from list of waveforms\n",
    "    return features\n",
    "\n",
    "def get_waveforms(file):\n",
    "    \n",
    "    # load an individual sample audio file\n",
    "    # read the full 3 seconds of the file, cut off the first 0.5s of silence; native sample rate = 48k\n",
    "    # don't need to store the sample rate that librosa.load returns\n",
    "    waveform, _ = librosa.load(file, duration=6, offset=0.5, sr=sample_rate)\n",
    "    \n",
    "    # make sure waveform vectors are homogenous by defining explicitly\n",
    "    waveform_homo = np.zeros((int(sample_rate*6,)))\n",
    "    waveform_homo[:len(waveform)] = waveform\n",
    "    \n",
    "    # return a single file's waveform                                      \n",
    "    return waveform_homo\n",
    "\n",
    "# RAVDESS dataset emotions\n",
    "# shift emotions left to be 0 indexed for PyTorch\n",
    "emotions_dict ={\n",
    "    '0':'belly_pain',\n",
    "    '1':'burping',\n",
    "    '2':'discomfort',\n",
    "    '3':'hungry',\n",
    "    '4':'tired',\n",
    "}\n"
   ]
  },
  {
   "cell_type": "markdown",
   "metadata": {},
   "source": [
    "## Load Data and Extract Features\n",
    "\n",
    "\n",
    "We process each file in the dataset and extract its features.\n",
    "\n",
    "We return the waveforms and the labels (from the file names of the Infant Cry audio samples). We return the raw waveforms because we're going to do some extra processing."
   ]
  },
  {
   "cell_type": "code",
   "execution_count": 65,
   "metadata": {},
   "outputs": [],
   "source": [
    "# path to data for glob\n",
    "data_path = 'D:\\InfantCryClassifier\\dataset\\*.wav'\n",
    "\n",
    "def load_data():\n",
    "    # features and labels\n",
    "    emotions = []\n",
    "    # raw waveforms to augment later\n",
    "    waveforms = []\n",
    "    # extra labels\n",
    "    genders = []\n",
    "    # progress counter\n",
    "    file_count = 0\n",
    "    for file in glob.glob(data_path):\n",
    "        # get file name with labels\n",
    "        file_name = os.path.basename(file)\n",
    "        \n",
    "        # get emotion label from the sample's file\n",
    "        emotion = ((file_name.split(\"-\")[9]).split(\".\")[0])\n",
    "        \n",
    "\n",
    "        #  move surprise to 0 for cleaner behaviour with PyTorch/0-indexing\n",
    "        if emotion == 'bp': emotion = 0 # surprise is now at 0 index; other emotion indeces unchanged\n",
    "\n",
    "        elif emotion == 'bu': emotion = 1\n",
    "\n",
    "        elif emotion == 'dc': emotion = 2\n",
    "\n",
    "        elif emotion == 'hu': emotion = 3\n",
    "\n",
    "        elif emotion == 'ti': emotion = 4\n",
    "\n",
    "        elif emotion == 'ch': emotion = 2\n",
    "        \n",
    "        #print(emotion)\n",
    "        # can convert emotion label to emotion string if desired, but\n",
    "        # training on number is better; better convert to emotion string after predictions are ready\n",
    "        # emotion = emotions_dict[str(emotion)]\n",
    "        \n",
    "        # get other labels we might want\n",
    "        # even actors are female, odd are male\n",
    "        gender =file_name.split(\"-\")[7] \n",
    "         \n",
    "        # get waveform from the sample\n",
    "        waveform = get_waveforms(file)\n",
    "        \n",
    "        # store waveforms and labels\n",
    "        waveforms.append(waveform)\n",
    "        emotions.append(emotion)\n",
    "        genders.append(gender) # store gender in case we wish to predict \n",
    "        \n",
    "        file_count += 1\n",
    "        # keep track of data loader's progress\n",
    "        print('\\r'+f' Processed {file_count}/{457} audio samples',end='')\n",
    "        \n",
    "    return waveforms, emotions, genders"
   ]
  },
  {
   "cell_type": "code",
   "execution_count": 66,
   "metadata": {},
   "outputs": [
    {
     "name": "stdout",
     "output_type": "stream",
     "text": [
      " Processed 61/457 audio samples"
     ]
    },
    {
     "name": "stdout",
     "output_type": "stream",
     "text": [
      " Processed 457/457 audio samples"
     ]
    }
   ],
   "source": [
    "# load data \n",
    "# init explicitly to prevent data leakage from past sessions, since load_data() appends\n",
    "waveforms, emotions, genders = [],[],[]\n",
    "waveforms, emotions, genders = load_data()"
   ]
  },
  {
   "cell_type": "markdown",
   "metadata": {},
   "source": [
    "## Check extracted audio waveforms and labels:\n"
   ]
  },
  {
   "cell_type": "code",
   "execution_count": 67,
   "metadata": {},
   "outputs": [
    {
     "name": "stdout",
     "output_type": "stream",
     "text": [
      "Waveforms set: 457 samples\n",
      "Waveform signal length: 48000\n",
      "Emotions set: 457 sample labels\n"
     ]
    }
   ],
   "source": [
    "print(f'Waveforms set: {len(waveforms)} samples')\n",
    "# we have 1440 waveforms but we need to know their length too; should be 3 sec * 48k = 144k\n",
    "print(f'Waveform signal length: {len(waveforms[0])}')\n",
    "print(f'Emotions set: {len(emotions)} sample labels')"
   ]
  },
  {
   "cell_type": "markdown",
   "metadata": {},
   "source": [
    "## Split into Train/Validation/Test Sets\n",
    "We'll use an 80/10/10 train/validation/test split to maximize training data and keep a reasonable validation/test set. \n",
    "\n",
    "**We're splitting waveforms so we can process train/validation/test waveforms separately and avoid data leakage.** \n",
    "\n",
    "**Have to take care to split the sets proportionally w.r.t. emotion.**\n",
    "\n",
    "**Yes, we can use sklearn - but to convince myself I've eradicated data leakage issues I did this manually.**"
   ]
  },
  {
   "cell_type": "code",
   "execution_count": 68,
   "metadata": {},
   "outputs": [
    {
     "name": "stdout",
     "output_type": "stream",
     "text": [
      "0\n",
      "1\n",
      "2\n",
      "3\n"
     ]
    },
    {
     "name": "stdout",
     "output_type": "stream",
     "text": [
      "4\n",
      "Training waveforms:(363, 48000), y_train:(363,)\n",
      "Validation waveforms:(46, 48000), y_valid:(46,)\n",
      "Test waveforms:(48, 48000), y_test:(48,)\n",
      "\n",
      "Sets are unique: 457 samples out of 457 are unique\n"
     ]
    }
   ],
   "source": [
    "# create storage for train, validation, test sets and their indices\n",
    "train_set,valid_set,test_set = [],[],[]\n",
    "X_train,X_valid,X_test = [],[],[]\n",
    "y_train,y_valid,y_test = [],[],[]\n",
    "\n",
    "# convert waveforms to array for processing\n",
    "waveforms = np.array(waveforms)\n",
    "\n",
    "# process each emotion separately to make sure we builf balanced train/valid/test sets \n",
    "for emotion_num in range(len(emotions_dict)):\n",
    "        \n",
    "    # find all indices of a single unique emotion\n",
    "    emotion_indices = [index for index, emotion in enumerate(emotions) if emotion==emotion_num]\n",
    "    print(emotion_num)\n",
    "    \n",
    "\n",
    "    # seed for reproducibility \n",
    "    np.random.seed(69)\n",
    "    # shuffle indicies \n",
    "    emotion_indices = np.random.permutation(emotion_indices)\n",
    "\n",
    "    # store dim (length) of the emotion list to make indices\n",
    "    dim = len(emotion_indices)\n",
    "    \n",
    "\n",
    "    # store indices of training, validation and test sets in 80/10/10 proportion\n",
    "    # train set is first 80%\n",
    "    train_indices = emotion_indices[:int(0.8*dim)]\n",
    "    # validation set is next 10% (between 80% and 90%)\n",
    "    valid_indices = emotion_indices[int(0.8*dim):int(0.9*dim)]\n",
    "    # test set is last 10% (between 90% - end/100%)\n",
    "    test_indices = emotion_indices[int(0.9*dim):]\n",
    "\n",
    "    # create train waveforms/labels sets\n",
    "    X_train.append(waveforms[train_indices,:])\n",
    "    y_train.append(np.array([emotion_num]*len(train_indices),dtype=np.int32))\n",
    "    # create validation waveforms/labels sets\n",
    "    X_valid.append(waveforms[valid_indices,:])\n",
    "    y_valid.append(np.array([emotion_num]*len(valid_indices),dtype=np.int32))\n",
    "    # create test waveforms/labels sets\n",
    "    X_test.append(waveforms[test_indices,:])\n",
    "    y_test.append(np.array([emotion_num]*len(test_indices),dtype=np.int32))\n",
    "\n",
    "    # store indices for each emotion set to verify uniqueness between sets \n",
    "    train_set.append(train_indices)\n",
    "    valid_set.append(valid_indices)\n",
    "    test_set.append(test_indices)\n",
    "\n",
    "# concatenate, in order, all waveforms back into one array \n",
    "X_train = np.concatenate(X_train,axis=0)\n",
    "X_valid = np.concatenate(X_valid,axis=0)\n",
    "X_test = np.concatenate(X_test,axis=0)\n",
    "\n",
    "# concatenate, in order, all emotions back into one array \n",
    "y_train = np.concatenate(y_train,axis=0)\n",
    "y_valid = np.concatenate(y_valid,axis=0)\n",
    "y_test = np.concatenate(y_test,axis=0)\n",
    "\n",
    "# combine and store indices for all emotions' train, validation, test sets to verify uniqueness of sets\n",
    "train_set = np.concatenate(train_set,axis=0)\n",
    "valid_set = np.concatenate(valid_set,axis=0)\n",
    "test_set = np.concatenate(test_set,axis=0)\n",
    "\n",
    "# check shape of each set\n",
    "print(f'Training waveforms:{X_train.shape}, y_train:{y_train.shape}')\n",
    "print(f'Validation waveforms:{X_valid.shape}, y_valid:{y_valid.shape}')\n",
    "print(f'Test waveforms:{X_test.shape}, y_test:{y_test.shape}')\n",
    "\n",
    "# make sure train, validation, test sets have no overlap/are unique\n",
    "# get all unique indices across all sets and how many times each index appears (count)\n",
    "uniques, count = np.unique(np.concatenate([train_set,test_set,valid_set],axis=0), return_counts=True)\n",
    "\n",
    "# if each index appears just once, and we have 1440 such unique indices, then all sets are unique\n",
    "if sum(count==1) == len(emotions):\n",
    "    print(f'\\nSets are unique: {sum(count==1)} samples out of {len(emotions)} are unique')\n",
    "else:\n",
    "    print(f'\\nSets are NOT unique: {sum(count==1)} samples out of {len(emotions)} are unique')    \n",
    "\n"
   ]
  },
  {
   "cell_type": "markdown",
   "metadata": {},
   "source": [
    "## Extract Features \n"
   ]
  },
  {
   "cell_type": "markdown",
   "metadata": {},
   "source": [
    "Extract the features from unaugmented waveforms first. In the next step, we'll append features from augmented waveforms to these 'native' features."
   ]
  },
  {
   "cell_type": "code",
   "execution_count": 69,
   "metadata": {},
   "outputs": [
    {
     "name": "stdout",
     "output_type": "stream",
     "text": [
      "Train waveforms:\n",
      " Processed 7/363 waveforms"
     ]
    },
    {
     "name": "stdout",
     "output_type": "stream",
     "text": [
      " Processed 363/363 waveforms\n",
      "\n",
      "Validation waveforms:\n",
      " Processed 46/46 waveforms\n",
      "\n",
      "Test waveforms:\n",
      " Processed 48/48 waveforms\n",
      "\n",
      "Features set: 457 total, 363 train, 46 validation, 48 test samples\n",
      "Features (MFC coefficient matrix) shape: 128 mel frequency coefficients x 188 time steps\n"
     ]
    }
   ],
   "source": [
    "# initialize feature arrays\n",
    "# We extract MFCC features from waveforms and store in respective 'features' array\n",
    "features_train, features_valid, features_test = [],[],[]\n",
    "\n",
    "print('Train waveforms:') # get training set features \n",
    "features_train = get_features(X_train, features_train, sample_rate)\n",
    "\n",
    "print('\\n\\nValidation waveforms:') # get validation set features\n",
    "features_valid = get_features(X_valid, features_valid, sample_rate)\n",
    "\n",
    "print('\\n\\nTest waveforms:') # get test set features \n",
    "features_test = get_features(X_test, features_test, sample_rate)\n",
    "\n",
    "print(f'\\n\\nFeatures set: {len(features_train)+len(features_test)+len(features_valid)} total, {len(features_train)} train, {len(features_valid)} validation, {len(features_test)} test samples')\n",
    "print(f'Features (MFC coefficient matrix) shape: {len(features_train[0])} mel frequency coefficients x {len(features_train[0][1])} time steps')"
   ]
  },
  {
   "cell_type": "markdown",
   "metadata": {},
   "source": [
    "## Augmenting the Data with AWGN - Additive White Gaussian Noise\n",
    "\n",
    "### Motivation\n",
    "\n",
    "Since our dataset is small, it is prone to overfitting - especially with highly parameterized deep neural net models\n",
    "such as the one we aim to build in this notebook. As such, we're going to want to augment our data. Generating more real samples will be immensely difficult. Instead, we can add white noise to the audio signals - not only to mask the effect of random noise present in the training set - but also **to create pseudo-new training samples and offset the impact of noise intrinsic to the dataset.** \n",
    "\n",
    "\n",
    "We're going to use Additive White Gaussian Noise (AWGN). It's Additive because we're adding it to the source audio signal,\n",
    "**it's Gaussian because the noise vector will be sampled from a normal distribution and have a time average of zero (zero-mean), and it's white because after a whitening transformation the noise will add power to the audio signal uniformly across the frequency distribution.**\n",
    "\n",
    "We need a good balance of noise - too little will be useless, and too much will make it too difficult for the network to learn from the training data. **Note that this is just for training - we would _not_ need to add AWGN to real-world data on which we make predictions** (although we could). \n",
    "\n",
    "### Math\n",
    "The key parameters in AWGN are the signal to noise ratio (SNR), defining the magnitude of the noise added w.r.t. the audio signal. We parameterize AWGN with the minimum and maximize SNR so we can pick a random SNR to use in augmenting each sample's waveform.\n",
    "\n",
    "We need to constrain covariance to make it true AWGN. **We make a zero-mean vector of Gaussian noises (np.random.normal) that are statistically dependent. We need to apply a [whitening transformation](https://en.wikipedia.org/wiki/Whitening_transformation)**, a linear transformation taking a vector of random normal (Gaussian) variables with a known covariance matrix and mapping it to a new vector whose covariance is the identity matrix, i.e. the vector is now perfectly uncorrelated with a diaganol covariance matrix, each point of noise having variance == stdev == 1. **The whitening transformation by definition transforms a vector into a white noise vector.**\n",
    "\n",
    "We're going to add the AWGN augmented waveforms as new samples to our dataset. **Since we generate AWGN which is random for each and every sample - random random noise - we can add multiples of our noise-augmented dataset. I'll add 4 extra identical, randomly noisy datasets with 457 samples each to get a dataset with 457 native + 457x4 == 2285 noisy samples.**"
   ]
  },
  {
   "cell_type": "code",
   "execution_count": 70,
   "metadata": {},
   "outputs": [],
   "source": [
    "def awgn_augmentation(waveform, multiples=2, bits=16, snr_min=15, snr_max=30): \n",
    "    \n",
    "    # get length of waveform (should be 3*48k = 144k)\n",
    "    wave_len = len(waveform)\n",
    "    \n",
    "    # Generate normally distributed (Gaussian) noises\n",
    "    # one for each waveform and multiple (i.e. wave_len*multiples noises)\n",
    "    noise = np.random.normal(size=(multiples, wave_len))\n",
    "    \n",
    "    # Normalize waveform and noise\n",
    "    norm_constant = 2.0**(bits-1)\n",
    "    norm_wave = waveform / norm_constant\n",
    "    norm_noise = noise / norm_constant\n",
    "    \n",
    "    # Compute power of waveform and power of noise\n",
    "    signal_power = np.sum(norm_wave ** 2) / wave_len\n",
    "    noise_power = np.sum(norm_noise ** 2, axis=1) / wave_len\n",
    "    \n",
    "    # Choose random SNR in decibels in range [15,30]\n",
    "    snr = np.random.randint(snr_min, snr_max)\n",
    "    \n",
    "    # Apply whitening transformation: make the Gaussian noise into Gaussian white noise\n",
    "    # Compute the covariance matrix used to whiten each noise \n",
    "    # actual SNR = signal/noise (power)\n",
    "    # actual noise power = 10**(-snr/10)\n",
    "    covariance = np.sqrt((signal_power / noise_power) * 10 ** (- snr / 10))\n",
    "    # Get covariance matrix with dim: (144000, 2) so we can transform 2 noises: dim (2, 144000)\n",
    "    covariance = np.ones((wave_len, multiples)) * covariance\n",
    "\n",
    "    # Since covariance and noise are arrays, * is the haddamard product \n",
    "    # Take Haddamard product of covariance and noise to generate white noise\n",
    "    multiple_augmented_waveforms = waveform + covariance.T * noise\n",
    "    \n",
    "    return multiple_augmented_waveforms"
   ]
  },
  {
   "cell_type": "code",
   "execution_count": 71,
   "metadata": {},
   "outputs": [],
   "source": [
    "def augment_waveforms(waveforms, features, emotions, multiples):\n",
    "    # keep track of how many waveforms we've processed so we can add correct emotion label in the same order\n",
    "    emotion_count = 0\n",
    "    # keep track of how many augmented samples we've added\n",
    "    added_count = 0\n",
    "    # convert emotion array to list for more efficient appending\n",
    "    emotions = emotions.tolist()\n",
    "\n",
    "    for waveform in waveforms:\n",
    "\n",
    "        # Generate 2 augmented multiples of the dataset, i.e. 1440 native + 1440*2 noisy = 4320 samples total\n",
    "        augmented_waveforms = awgn_augmentation(waveform, multiples=multiples)\n",
    "\n",
    "        # compute spectrogram for each of 2 augmented waveforms\n",
    "        for augmented_waveform in augmented_waveforms:\n",
    "\n",
    "            # Compute MFCCs over augmented waveforms\n",
    "            augmented_mfcc = feature_mfcc(augmented_waveform, sample_rate=sample_rate)\n",
    "\n",
    "            # append the augmented spectrogram to the rest of the native data\n",
    "            features.append(augmented_mfcc)\n",
    "            emotions.append(emotions[emotion_count])\n",
    "\n",
    "            # keep track of new augmented samples\n",
    "            added_count += 1\n",
    "\n",
    "            # check progress\n",
    "            print('\\r'+f'Processed {emotion_count + 1}/{len(waveforms)} waveforms for {added_count}/{len(waveforms)*multiples} new augmented samples',end='')\n",
    "\n",
    "        # keep track of the emotion labels to append in order\n",
    "        emotion_count += 1\n",
    "        \n",
    "        # store augmented waveforms to check their shape\n",
    "        augmented_waveforms_temp.append(augmented_waveforms)\n",
    "    \n",
    "    return features, emotions"
   ]
  },
  {
   "cell_type": "markdown",
   "metadata": {},
   "source": [
    "### Compute AWGN-augmented features and add to the rest of the dataset\n",
    "\n"
   ]
  },
  {
   "cell_type": "code",
   "execution_count": 72,
   "metadata": {},
   "outputs": [
    {
     "name": "stdout",
     "output_type": "stream",
     "text": [
      "Train waveforms:\n",
      "Processed 3/363 waveforms for 9/1452 new augmented samples"
     ]
    },
    {
     "name": "stdout",
     "output_type": "stream",
     "text": [
      "Processed 363/363 waveforms for 1452/1452 new augmented samples\n",
      "\n",
      "Validation waveforms:\n",
      "Processed 46/46 waveforms for 184/184 new augmented samples\n",
      "\n",
      "Test waveforms:\n",
      "Processed 48/48 waveforms for 192/192 new augmented samples\n",
      "\n",
      "Native + Augmented Features set: 2285 total, 1815 train, 230 validation, 240 test samples\n",
      "1815 training sample labels, 230 validation sample labels, 240 test sample labels\n",
      "Features (MFCC matrix) shape: 128 mel frequency coefficients x 188 time steps\n"
     ]
    }
   ],
   "source": [
    "# store augmented waveforms to verify their shape and random-ness\n",
    "augmented_waveforms_temp = []\n",
    "\n",
    "# specify multiples of our dataset to add as augmented data\n",
    "multiples = 4\n",
    "\n",
    "print('Train waveforms:') # augment waveforms of training set\n",
    "features_train , y_train = augment_waveforms(X_train, features_train, y_train, multiples)\n",
    "\n",
    "print('\\n\\nValidation waveforms:') # augment waveforms of validation set\n",
    "features_valid, y_valid = augment_waveforms(X_valid, features_valid, y_valid, multiples)\n",
    "\n",
    "print('\\n\\nTest waveforms:') # augment waveforms of test set \n",
    "features_test, y_test = augment_waveforms(X_test, features_test, y_test, multiples)\n",
    "\n",
    "# Check new shape of extracted features and data:\n",
    "print(f'\\n\\nNative + Augmented Features set: {len(features_train)+len(features_test)+len(features_valid)} total, {len(features_train)} train, {len(features_valid)} validation, {len(features_test)} test samples')\n",
    "print(f'{len(y_train)} training sample labels, {len(y_valid)} validation sample labels, {len(y_test)} test sample labels')\n",
    "print(f'Features (MFCC matrix) shape: {len(features_train[0])} mel frequency coefficients x {len(features_train[0][1])} time steps')"
   ]
  },
  {
   "cell_type": "markdown",
   "metadata": {},
   "source": [
    "### Check Augmented Waveforms:"
   ]
  },
  {
   "cell_type": "code",
   "execution_count": 73,
   "metadata": {},
   "outputs": [
    {
     "data": {
      "image/png": "[encoded data removed]",
      "text/plain": [
       "<Figure size 1500x400 with 2 Axes>"
      ]
     },
     "metadata": {},
     "output_type": "display_data"
    },
    {
     "data": {
      "image/png": "[encoded data removed]",
      "text/plain": [
       "<Figure size 1500x400 with 2 Axes>"
      ]
     },
     "metadata": {},
     "output_type": "display_data"
    }
   ],
   "source": [
    "# pick a random waveform, but same one from native and augmented set for easier comparison\n",
    "plt.figure(figsize=(15,4))\n",
    "plt.subplot(1, 2, 1)\n",
    "librosa.display.waveplot(waveforms[12], sr=sample_rate)\n",
    "plt.title('Native')\n",
    "\n",
    "plt.subplot(1, 2, 2)\n",
    "# augmented waveforms are 2D len 1440 list with 2 waveforms in each position\n",
    "librosa.display.waveplot(augmented_waveforms_temp[0][0], sr=sample_rate)\n",
    "plt.title('AWGN Augmented')\n",
    "plt.show()\n",
    "\n",
    "plt.figure(figsize=(15,4))\n",
    "plt.subplot(1, 2, 1)\n",
    "librosa.display.waveplot(augmented_waveforms_temp[2][0], sr=sample_rate)\n",
    "plt.title('AWGN Augmented')\n",
    "\n",
    "plt.subplot(1, 2, 2)\n",
    "librosa.display.waveplot(augmented_waveforms_temp[7][0], sr=sample_rate)\n",
    "plt.title('AWGN Augmented')\n",
    "plt.show()"
   ]
  },
  {
   "cell_type": "markdown",
   "metadata": {},
   "source": [
    "Looks noisy alright. Noise is clearly visible in otherwise-silent regions of the waveform. We can see the variability of the noise, which should have an SNR between 15 and 30.\n",
    "\n",
    "**Note that augmentation was only done after splitting data into train, validation, and test sets - and we processed each set separately.**\n",
    "\n",
    "**When we augmented the data before splitting it, test and validation data leaked into the training set giving a 97% test accuracy after training.**\n",
    "\n",
    "## Format Data into Tensor Ready 4D Arrays\n",
    "We don't have a colour channel in our MFCC feature array of dim (#samples, #MFC coefficients, time steps). **We have an analog of a black and white image: instead of 3 colour channels, we have 1 signal intensity channel: magnitude of each of 40 mel frequency coefficients at time t.**\n",
    "\n",
    "**We need an input channel dim to expand to output channels using CNN filters. We create a dummy channel dim to expand features into 2D-CNN-ready 4D tensor format: N x C x H x W.**"
   ]
  },
  {
   "cell_type": "code",
   "execution_count": 74,
   "metadata": {},
   "outputs": [
    {
     "name": "stdout",
     "output_type": "stream",
     "text": [
      "Shape of 4D feature array for input tensor: (1815, 1, 128, 188) train, (230, 1, 128, 188) validation, (240, 1, 128, 188) test\n",
      "Shape of emotion labels: (1815,) train, (230,) validation, (240,) test\n"
     ]
    },
    {
     "data": {
      "text/plain": [
       "numpy.ndarray"
      ]
     },
     "execution_count": 74,
     "metadata": {},
     "output_type": "execute_result"
    }
   ],
   "source": [
    "# need to make dummy input channel for CNN input feature tensor\n",
    "X_train = np.expand_dims(features_train,1)\n",
    "X_valid = np.expand_dims(features_valid, 1)\n",
    "X_test = np.expand_dims(features_test,1)\n",
    "\n",
    "# convert emotion labels from list back to numpy arrays for PyTorch to work with \n",
    "y_train = np.array(y_train)\n",
    "y_valid = np.array(y_valid)\n",
    "y_test = np.array(y_test)\n",
    "\n",
    "# confiorm that we have tensor-ready 4D data array\n",
    "# should print (batch, channel, width, height) == (4320, 1, 128, 282) when multiples==2\n",
    "print(f'Shape of 4D feature array for input tensor: {X_train.shape} train, {X_valid.shape} validation, {X_test.shape} test')\n",
    "print(f'Shape of emotion labels: {y_train.shape} train, {y_valid.shape} validation, {y_test.shape} test')\n",
    "type(X_train)"
   ]
  },
  {
   "cell_type": "code",
   "execution_count": 75,
   "metadata": {},
   "outputs": [],
   "source": [
    "del features_train, features_valid, features_test, waveforms, augmented_waveforms_temp"
   ]
  },
  {
   "cell_type": "markdown",
   "metadata": {},
   "source": [
    "## Feature Scaling\n",
    "Scaling will drastically decrease the length of time the model needs to train to convergence - it will have easier computations to perform on smaller magnitudes. **For reference, scaling reduces the time to convergence from about 100 to 50 epochs for this model.**\n",
    "\n",
    "**Standard Scaling makes the most sense because we have features whose target distribution we don't know.** When I performed classification on this dataset with an MLP classifier standard scaling was best across a variety of conditions and features."
   ]
  },
  {
   "cell_type": "code",
   "execution_count": 76,
   "metadata": {},
   "outputs": [
    {
     "name": "stdout",
     "output_type": "stream",
     "text": [
      "X_train scaled:(1815, 1, 128, 188), y_train:(1815,)\n",
      "X_valid scaled:(230, 1, 128, 188), y_valid:(230,)\n",
      "X_test scaled:(240, 1, 128, 188), y_test:(240,)\n"
     ]
    },
    {
     "data": {
      "text/plain": [
       "numpy.ndarray"
      ]
     },
     "execution_count": 76,
     "metadata": {},
     "output_type": "execute_result"
    }
   ],
   "source": [
    "from sklearn.preprocessing import StandardScaler\n",
    "\n",
    "scaler = StandardScaler()\n",
    "\n",
    "#### Scale the training data ####\n",
    "# store shape so we can transform it back \n",
    "N,C,H,W = X_train.shape\n",
    "# Reshape to 1D because StandardScaler operates on a 1D array\n",
    "# tell numpy to infer shape of 1D array with '-1' argument\n",
    "X_train = np.reshape(X_train, (N,-1)) \n",
    "X_train = scaler.fit_transform(X_train)\n",
    "# Transform back to NxCxHxW 4D tensor format\n",
    "X_train = np.reshape(X_train, (N,C,H,W))\n",
    "\n",
    "##### Scale the validation set ####\n",
    "N,C,H,W = X_valid.shape\n",
    "X_valid = np.reshape(X_valid, (N,-1))\n",
    "X_valid = scaler.transform(X_valid)\n",
    "X_valid = np.reshape(X_valid, (N,C,H,W))\n",
    "\n",
    "#### Scale the test set ####\n",
    "N,C,H,W = X_test.shape\n",
    "X_test = np.reshape(X_test, (N,-1))\n",
    "X_test = scaler.transform(X_test)\n",
    "X_test = np.reshape(X_test, (N,C,H,W))\n",
    "\n",
    "# check shape of each set again\n",
    "print(f'X_train scaled:{X_train.shape}, y_train:{y_train.shape}')\n",
    "print(f'X_valid scaled:{X_valid.shape}, y_valid:{y_valid.shape}')\n",
    "print(f'X_test scaled:{X_test.shape}, y_test:{y_test.shape}')\n",
    "type(X_train)"
   ]
  },
  {
   "cell_type": "markdown",
   "metadata": {},
   "source": [
    "## Save and Reload Data as NumPy Arrays \n",
    "We can save the training/validation/test data as numpy arrays to enable faster loading in case the notebook kernel crashes / google colab runtime crashes / any number of reasons the training data might be cleared from memory. This is much faster than loading 457 files and computing their features again - not to mention augmented features."
   ]
  },
  {
   "cell_type": "code",
   "execution_count": 77,
   "metadata": {},
   "outputs": [
    {
     "name": "stdout",
     "output_type": "stream",
     "text": [
      "Features and labels saved to features+labels.npy\n"
     ]
    }
   ],
   "source": [
    "###### SAVE #########\n",
    "# choose save file name \n",
    "filename = 'features+labels.npy'\n",
    "\n",
    "# open file in write mode and write data\n",
    "with open(filename, 'wb') as f:\n",
    "    np.save(f, X_train)\n",
    "    np.save(f, X_valid)\n",
    "    np.save(f, X_test)\n",
    "    np.save(f, y_train)\n",
    "    np.save(f, y_valid)\n",
    "    np.save(f, y_test)\n",
    "\n",
    "print(f'Features and labels saved to {filename}')"
   ]
  },
  {
   "cell_type": "code",
   "execution_count": 78,
   "metadata": {},
   "outputs": [
    {
     "name": "stdout",
     "output_type": "stream",
     "text": [
      "X_train:(1815, 1, 128, 188), y_train:(1815,)\n",
      "X_valid:(230, 1, 128, 188), y_valid:(230,)\n",
      "X_test:(240, 1, 128, 188), y_test:(240,)\n"
     ]
    }
   ],
   "source": [
    "##### LOAD #########\n",
    "# choose load file name \n",
    "filename = 'features+labels.npy'\n",
    "\n",
    "# open file in read mode and read data \n",
    "with open(filename, 'rb') as f:\n",
    "    X_train = np.load(f)\n",
    "    X_valid = np.load(f)\n",
    "    X_test = np.load(f)\n",
    "    y_train = np.load(f)\n",
    "    y_valid = np.load(f)\n",
    "    y_test = np.load(f)\n",
    "\n",
    "# Check that we've recovered the right data\n",
    "print(f'X_train:{X_train.shape}, y_train:{y_train.shape}')\n",
    "print(f'X_valid:{X_valid.shape}, y_valid:{y_valid.shape}')\n",
    "print(f'X_test:{X_test.shape}, y_test:{y_test.shape}') "
   ]
  },
  {
   "cell_type": "markdown",
   "metadata": {},
   "source": [
    "# Architecture Overview\n",
    "As a whole, the CNN architecture of this network is inspired by a combination of the golden standards in image and sequence processing over the last few years.\n",
    "\n",
    "Each 3-layer deep 2D convolutional block is extremely similar to the **classic [LeNet](http://yann.lecun.com/exdb/publis/pdf/lecun-98.pdf) architecture: Conv->Pool>Conv>Pool>FC.** \n",
    "\n",
    "**[AlexNet](https://papers.nips.cc/paper/4824-imagenet-classification-with-deep-convolutional-neural-networks.pdf) forms the basis for increasing the complexity of feature maps with channel expansion through stacked CNN layers; [Inception and GoogLeNet](https://static.googleusercontent.com/media/research.google.com/en//pubs/archive/43022.pdf) are the inspiration for parallelizing CNN layers in the hopes of diverisfying the features learned by the network.** \n",
    "\n",
    "**[VGGNet](https://arxiv.org/pdf/1409.1556.pdf) proved the unreasonable efficiency of using fixed sized kernels throughout deeply stacked CNN layers;** I found this to extend to this task. Specifically, VGG saw an improvement over AlexNet largely by replacing large kernels (i.e. 11x11 stride 5) with smaller ones of 3x3 stride 1. One of the motivations that VGG cites for this is that the 3x3 kernel is the smallest kernel size choice in understanding spatial data w.r.t. up/down/left/right (although VGG also uses 1x1 kernels). VGGNet also inspires the maxpool kernel size of 2x2 stride 2, as I have used at the first layer of each convolutional block. \n",
    "\n",
    "We employ a model that combines parallel 2D\n",
    "convolutional blocks with a transformer block for parallel \n",
    "transformer implantations. \n",
    " The architecture starts with a transformer block that has \n",
    "many transformer encoder layers as well as a max-pooling \n",
    "layer to downsample the input feature map. Self-attention \n",
    "and feed-forward networks are used by these levels to \n",
    "process the information. Four layers of the transformer \n",
    "encoder are layered. \n",
    " Two parallel 2D convolutional blocks follow. Three \n",
    "consecutive convolutional layers, batch normalization, \n",
    "ReLU activation, max pooling, and dropout are all included \n",
    "in each block. These blocks provide a flattened 1D array as \n",
    "their output. \n",
    " The outputs from the transformer block and the \n",
    "convolutional blocks are then combined. A linear layer, \n",
    "followed by a SoftMax layer, which generates both logits \n",
    "(for loss computation) and SoftMax probabilities (for class \n",
    "prediction), is applied to the concatenated features. \n",
    " The parallel convolutional and transformer blocks are \n",
    "traversed in a forward pass by the model using a tensor as \n",
    "an input. The output logits and SoftMax probabilities are \n",
    "returned. The constructor specifies the number of emotions \n",
    "as a parameter, and the model contains trainable \n",
    "parameters. We employed the Transformer-Encoder layer \n",
    "as described in the \"Attention is All You Need\" paper to \n",
    "train the network. The objective was to forecast frequency \n",
    "distributions of various emotions, leveraging the overall \n",
    "pattern of Mel-Frequency Cepstral Coefficients (MFCCs) \n",
    "linked with each emotion"
   ]
  },
  {
   "cell_type": "markdown",
   "metadata": {},
   "source": [
    "# Build Model Architecture and Define Forward Pass"
   ]
  },
  {
   "cell_type": "code",
   "execution_count": 79,
   "metadata": {},
   "outputs": [
    {
     "name": "stdout",
     "output_type": "stream",
     "text": [
      "4\n"
     ]
    }
   ],
   "source": [
    "#change nn.sequential to take dict to make more readable \n",
    "\n",
    "class parallel_all_you_want(nn.Module):      # base module\n",
    "    # Define all layers present in the network\n",
    "    def __init__(self, num_emotions):\n",
    "        super().__init__()                # initializes internal module state.\n",
    "        \n",
    "        ################## TRANSFORMER BLOCK #####################\n",
    "        # MAXPOOL THE INPUT FEATURE MAP/TENSOR TO THE TRANSFORMER\n",
    "        # rectangular kernel worked better here for the rectangular input\n",
    "        self.transformer_maxpool = nn.MaxPool2d(kernel_size = [1, 4], stride = [1, 4])\n",
    "        \n",
    "        # define single transformer encoder layer\n",
    "        # self-attention + feedforward network from \"Attention is All you need\"\n",
    "        # 4 multi-head self-attention layers earch with 40 -->512 --> 40 feedforward network\n",
    "        transformer_layer = nn.TransformerEncoderLayer(\n",
    "            d_model = 128, # input features (frequency) dim after maxpooling 40*282 -> 40*70 (MFC*time)\n",
    "            nhead = 4, # 4 self-attention layers in each multi-head self-attention\n",
    "            dim_feedforward = 1280, # 2 layers in each encoder block's feedforward network: dim 40-->512--->40\n",
    "            dropout = 0.5,\n",
    "            activation = 'relu' # ReLU: avoid saturation/time gradient/ reduce compute time\n",
    "            \n",
    "        )\n",
    "        \n",
    "        # I'm using 4 instead of the 6 identical stacked encoder layrs used in Attention is All You Need paper\n",
    "        # Complete transformer block contains 4 full transformer encoder layers (each w/ multihead self-attention+feedforward)\n",
    "        self.transformer_encoder = nn.TransformerEncoder(transformer_layer, num_layers = 4)\n",
    "        \n",
    "        \n",
    "        \n",
    "        # ======================== 1ST PARALLEL 2D CONVOLUTION BLOCK ===========================\n",
    "        \n",
    "        # 3 sequential conv2D layers: (1,128,188) --> (16, 64, 94) -> (32, 16, 21) -> (64, 4, 5)\n",
    "        self.conv2Dblock1 = nn.Sequential(\n",
    "            \n",
    "            # 1st 2D convolution layer\n",
    "            nn.Conv2d(\n",
    "                in_channels = 1,  # input volume depth == input channel dim == 1\n",
    "                out_channels = 16, # expand output feature map volume's depth to 16\n",
    "                kernel_size = 3, # 3*3 stride 1 kernel\n",
    "                stride = 1,\n",
    "                padding = 1\n",
    "            ),\n",
    "            \n",
    "            nn.BatchNorm2d(16), # batch normalize the output feature map before activation\n",
    "            nn.ReLU(),  # feature map --> activation map\n",
    "            nn.MaxPool2d(kernel_size = 2, stride = 2), #typical maxpool kernel size\n",
    "            nn.Dropout(p = 0.4),\n",
    "            \n",
    "            # 2nd 2D convolution layer identical to last except output dim\n",
    "            nn.Conv2d(\n",
    "                in_channels = 16,  \n",
    "                out_channels = 32, # expand output feature map volume's depth to 32\n",
    "                kernel_size = 3, # 3*3 stride 1 kernel\n",
    "                stride = 1,\n",
    "                padding = 1\n",
    "            ),\n",
    "            \n",
    "            nn.BatchNorm2d(32), # batch normalize the output feature map before activation\n",
    "            nn.ReLU(),  # feature map --> activation map\n",
    "            nn.MaxPool2d(kernel_size = 4, stride = 4), # increase maxpool kernel size\n",
    "            nn.Dropout(p = 0.4),\n",
    "            \n",
    "            # 3rd 2D convolution layer identical to last except output dim\n",
    "            nn.Conv2d(\n",
    "                in_channels = 32,  \n",
    "                out_channels = 64, # expand output feature map volume's depth to 32\n",
    "                kernel_size = 3, # 3*3 stride 1 kernel\n",
    "                stride = 1,\n",
    "                padding = 1\n",
    "            ),\n",
    "            \n",
    "            nn.BatchNorm2d(64), # batch normalize the output feature map before activation\n",
    "            nn.ReLU(),  # feature map --> activation map\n",
    "            nn.MaxPool2d(kernel_size = 4, stride = 4), # increase maxpool kernel size\n",
    "            nn.Dropout(p = 0.4),\n",
    "        )\n",
    "        \n",
    "        \n",
    "        # ======================== 2ND PARALLEL 2D CONVOLUTION BLOCK ===========================\n",
    "        \n",
    "        # 3 sequential conv2D layers: ( 1, 40, 188) --> (16, 20, 94) -> (32, 5, 21) -> (64, 1, 5)\n",
    "        self.conv2Dblock2 = nn.Sequential(\n",
    "            \n",
    "            # 1st 2D convolution layer\n",
    "            nn.Conv2d(\n",
    "                in_channels = 1,  # input volume depth == input channel dim == 1\n",
    "                out_channels = 16, # expand output feature map volume's depth to 16\n",
    "                kernel_size = 3, # 3*3 stride 1 kernel\n",
    "                stride = 1,\n",
    "                padding = 1\n",
    "            ),\n",
    "            \n",
    "            nn.BatchNorm2d(16), # batch normalize the output feature map before activation\n",
    "            nn.ReLU(),  # feature map --> activation map\n",
    "            nn.MaxPool2d(kernel_size = 2, stride = 2), #typical maxpool kernel size\n",
    "            nn.Dropout(p = 0.3),\n",
    "            \n",
    "            # 2nd 2D convolution layer identical to last except output dim\n",
    "            nn.Conv2d(\n",
    "                in_channels = 16,  \n",
    "                out_channels = 32, # expand output feature map volume's depth to 32\n",
    "                kernel_size = 3, # 3*3 stride 1 kernel\n",
    "                stride = 1,\n",
    "                padding = 1\n",
    "            ),\n",
    "            \n",
    "            nn.BatchNorm2d(32), # batch normalize the output feature map before activation\n",
    "            nn.ReLU(),  # feature map --> activation map\n",
    "            nn.MaxPool2d(kernel_size = 4, stride = 4), # increase maxpool kernel size\n",
    "            nn.Dropout(p = 0.4),\n",
    "            \n",
    "            # 3rd 2D convolution layer identical to last except output dim\n",
    "            nn.Conv2d(\n",
    "                in_channels = 32,  \n",
    "                out_channels = 64, # expand output feature map volume's depth to 32\n",
    "                kernel_size = 3, # 3*3 stride 1 kernel\n",
    "                stride = 1,\n",
    "                padding = 1\n",
    "            ),\n",
    "            \n",
    "            nn.BatchNorm2d(64), # batch normalize the output feature map before activation\n",
    "            nn.ReLU(),  # feature map --> activation map\n",
    "            nn.MaxPool2d(kernel_size = 4, stride = 4), # increase maxpool kernel size\n",
    "            nn.Dropout(p = 0.4),\n",
    "        )\n",
    "        \n",
    "        \n",
    "        # ====================== FINAL LINEAR BLOCK ==========================\n",
    "        # Linear softmax layer to take final concatenated embedding tensor\n",
    "        #   from parallel 2D cnn and transformer block, output  output 8 logits \n",
    "        # Full transformer block outputs 40*70 feature map, which we time-avg to dim 40 1D array\n",
    "        # 512*2+40 == 1064 input features --> 8 output emotions \n",
    "        \n",
    "        self.fc1_linear = nn.Linear(1280 * 2 + 128, num_emotions)\n",
    "        \n",
    "        # SOFTMAX layer for the 8 output logits from final FC linear layer\n",
    "        self.softmax_out = nn.Softmax(dim = 1) # dim == 1 is frequency embedding\n",
    "        \n",
    "    \n",
    "    # define one complete parallel fwd pass of input features tensor through 2*conv+1*transformer blocks\n",
    "    \n",
    "    def forward(self, x):\n",
    "        \n",
    "        # =========== 1st parallel Conc2D block: 3 con layers =================\n",
    "        # create final feature embedding from 1st con layer\n",
    "        # input features passed through 3 sequential 2D convolutional layers\n",
    "        conv2d_embedding1 = self.conv2Dblock1(x) # x = features (x_train - N*C*B*H)\n",
    "        \n",
    "        # flatten final 64*1*8 feature map from con layer to length 512 1D array\n",
    "        # skip the 1sst (N/batch) dimension when flattening\n",
    "        conv2d_embedding1 = torch.flatten(conv2d_embedding1, start_dim = 1)\n",
    "        \n",
    "        \n",
    "        # =========== 2nd parallel Conc2D block: 3 con layers =================\n",
    "        # create final feature embedding from 1st con layer\n",
    "        # input features passed through 3 sequential 2D convolutional layers\n",
    "        conv2d_embedding2 = self.conv2Dblock2(x) # x = features (x_train - N*C*B*H)\n",
    "        \n",
    "        # flatten final 64*1*8 feature map from con layer to length 512 1D array\n",
    "        # skip the 1sst (N/batch) dimension when flattening\n",
    "        conv2d_embedding2 = torch.flatten(conv2d_embedding2, start_dim = 1)\n",
    "        \n",
    "        \n",
    "        # ============ 4-encoder-layer Transformer block =================\n",
    "        \n",
    "        # maxpool input feature map: 1*40*94 w/ 1*4 kernel  --> 1*40*23\n",
    "        x_maxpool = self.transformer_maxpool(x)\n",
    "        \n",
    "        # remove channel dim: 1*40*70 --> 40*70\n",
    "        x_maxpool_reduced = torch.squeeze(x_maxpool, 1)   # squeeze removes single dimension entries\n",
    "        \n",
    "        # convert maxpooled feature map format: batch * freq * time --> time * batch * freq format\n",
    "        # because transformer encoder layer requires tensor in format: time * batch * embedding (freq)\n",
    "        x = x_maxpool_reduced.permute(2, 0, 1)\n",
    "        \n",
    "        # finally, pass reduced input feature map 'x' into transformer encoder\n",
    "        transformer_output = self.transformer_encoder(x)\n",
    "        \n",
    "        ## create final feature embedding from transformer layer by taking mean in the time dimension (now the 0th dim)\n",
    "        # transformer outputs 2x40 (MFCC embedding*time) feature map, take mean of columns i.e. take time average\n",
    "        transformer_embedding = torch.mean(transformer_output, dim = 0) \n",
    "        \n",
    "        \n",
    "        # ============ concatenate frequency embeddings form con and transformer block ===============\n",
    "        # concatenate tensors output by parallel 2*conv and 1*transformer blocks\n",
    "        complete_embedding = torch.cat([conv2d_embedding1, conv2d_embedding2, transformer_embedding], dim = 1)\n",
    "        \n",
    "        \n",
    "        # ============ final FC linear layer, need logits for loss =================\n",
    "        output_logits = self.fc1_linear(complete_embedding)\n",
    "        \n",
    "        # ============ final softmax layer: use logits from FC linear, get softmax for prediction ==========\n",
    "        output_softmax = self.softmax_out(output_logits)\n",
    "        \n",
    "        \n",
    "        # need output logits to compute cross entropy loss, need softmax probabilities to predict class\n",
    "        return output_logits, output_softmax          \n",
    "    \n",
    "print(emotion_num)"
   ]
  },
  {
   "cell_type": "code",
   "execution_count": 80,
   "metadata": {},
   "outputs": [
    {
     "data": {
      "text/plain": [
       "===============================================================================================\n",
       "Layer (type:depth-idx)                        Output Shape              Param #\n",
       "===============================================================================================\n",
       "parallel_all_you_want                         [1, 5]                    --\n",
       "├─Sequential: 1-1                             [1, 64, 4, 5]             --\n",
       "│    └─Conv2d: 2-1                            [1, 16, 128, 188]         160\n",
       "│    └─BatchNorm2d: 2-2                       [1, 16, 128, 188]         32\n",
       "│    └─ReLU: 2-3                              [1, 16, 128, 188]         --\n",
       "│    └─MaxPool2d: 2-4                         [1, 16, 64, 94]           --\n",
       "│    └─Dropout: 2-5                           [1, 16, 64, 94]           --\n",
       "│    └─Conv2d: 2-6                            [1, 32, 64, 94]           4,640\n",
       "│    └─BatchNorm2d: 2-7                       [1, 32, 64, 94]           64\n",
       "│    └─ReLU: 2-8                              [1, 32, 64, 94]           --\n",
       "│    └─MaxPool2d: 2-9                         [1, 32, 16, 23]           --\n",
       "│    └─Dropout: 2-10                          [1, 32, 16, 23]           --\n",
       "│    └─Conv2d: 2-11                           [1, 64, 16, 23]           18,496\n",
       "│    └─BatchNorm2d: 2-12                      [1, 64, 16, 23]           128\n",
       "│    └─ReLU: 2-13                             [1, 64, 16, 23]           --\n",
       "│    └─MaxPool2d: 2-14                        [1, 64, 4, 5]             --\n",
       "│    └─Dropout: 2-15                          [1, 64, 4, 5]             --\n",
       "├─Sequential: 1-2                             [1, 64, 4, 5]             --\n",
       "│    └─Conv2d: 2-16                           [1, 16, 128, 188]         160\n",
       "│    └─BatchNorm2d: 2-17                      [1, 16, 128, 188]         32\n",
       "│    └─ReLU: 2-18                             [1, 16, 128, 188]         --\n",
       "│    └─MaxPool2d: 2-19                        [1, 16, 64, 94]           --\n",
       "│    └─Dropout: 2-20                          [1, 16, 64, 94]           --\n",
       "│    └─Conv2d: 2-21                           [1, 32, 64, 94]           4,640\n",
       "│    └─BatchNorm2d: 2-22                      [1, 32, 64, 94]           64\n",
       "│    └─ReLU: 2-23                             [1, 32, 64, 94]           --\n",
       "│    └─MaxPool2d: 2-24                        [1, 32, 16, 23]           --\n",
       "│    └─Dropout: 2-25                          [1, 32, 16, 23]           --\n",
       "│    └─Conv2d: 2-26                           [1, 64, 16, 23]           18,496\n",
       "│    └─BatchNorm2d: 2-27                      [1, 64, 16, 23]           128\n",
       "│    └─ReLU: 2-28                             [1, 64, 16, 23]           --\n",
       "│    └─MaxPool2d: 2-29                        [1, 64, 4, 5]             --\n",
       "│    └─Dropout: 2-30                          [1, 64, 4, 5]             --\n",
       "├─MaxPool2d: 1-3                              [1, 1, 128, 47]           --\n",
       "├─TransformerEncoder: 1-4                     [47, 1, 128]              --\n",
       "│    └─ModuleList: 2-31                       --                        --\n",
       "│    │    └─TransformerEncoderLayer: 3-1      [47, 1, 128]              395,648\n",
       "│    │    └─TransformerEncoderLayer: 3-2      [47, 1, 128]              395,648\n",
       "│    │    └─TransformerEncoderLayer: 3-3      [47, 1, 128]              395,648\n",
       "│    │    └─TransformerEncoderLayer: 3-4      [47, 1, 128]              395,648\n",
       "├─Linear: 1-5                                 [1, 5]                    13,445\n",
       "├─Softmax: 1-6                                [1, 5]                    --\n",
       "===============================================================================================\n",
       "Total params: 1,643,077\n",
       "Trainable params: 1,643,077\n",
       "Non-trainable params: 0\n",
       "Total mult-adds (M): 139.12\n",
       "===============================================================================================\n",
       "Input size (MB): 0.10\n",
       "Forward/backward pass size (MB): 21.74\n",
       "Params size (MB): 5.52\n",
       "Estimated Total Size (MB): 27.35\n",
       "==============================================================================================="
      ]
     },
     "execution_count": 80,
     "metadata": {},
     "output_type": "execute_result"
    }
   ],
   "source": [
    "from torchinfo import summary\n",
    "\n",
    "# instantiate model \n",
    "model = parallel_all_you_want(5)\n",
    "\n",
    "# summary(model, input_size=(1, 40, 259))\n",
    "# ValueError: expected 4D input (got 3D input)\n",
    "\n",
    "summary(model, input_size=(1, 1, 128, 188))"
   ]
  },
  {
   "cell_type": "markdown",
   "metadata": {},
   "source": [
    "## Define Loss/Criterion\n",
    "\n",
    "We must define the loss function (criterion per PyTorch notation) for the backwards pass of each training iteration. Since our classes our balanced we don't need to specify a class-weight parameter (to balance classes).\n",
    "\n",
    "**PyTorch nn.CrossEntropyLoss() implements log softmax and negative log likelihood loss (nn.NLLoss() --> nn.LogSoftmax())\n",
    "We use log softmax for computation benefits and faster gradient optimization. Log softmax heavily penalizes the model when failing to predict the correct class.**"
   ]
  },
  {
   "cell_type": "code",
   "execution_count": 81,
   "metadata": {},
   "outputs": [],
   "source": [
    "# define loss function; CrossEntropyLoss() fairly standard for multiclass problems \n",
    "def criterion(predictions, targets): \n",
    "    return nn.CrossEntropyLoss()(input=predictions, target=targets)"
   ]
  },
  {
   "cell_type": "markdown",
   "metadata": {},
   "source": [
    "## Choose Optimizer\n",
    "\n",
    "I used Adam to train an MLP due to its faster compute and convergence. Adam is great and usually works well with defaults.\n",
    "\n",
    "**However, a lot of 2018-2020 papers still use SGD. It seems to me that the reason is SGD with properly tuned momentum sometimes (often) converges to lower loss with enough training.**\n",
    "\n",
    "**Quoting [Wilson et al, 2017](https://arxiv.org/abs/1705.08292):** \n",
    "\n",
    "    “We observe that the solutions found by adaptive methods generalize worse (often significantly worse) than SGD, even \n",
    "    when these solutions have better training performance. These results suggest that practitioners should reconsider the \n",
    "    use of adaptive methods to train neural networks.\"\n",
    "\n",
    "\n",
    "\"Adaptive methods\" refers to the likes of Adam.\n",
    "   \n",
    "**I took full advantage of plain old SGD by using the highest momentum leading to convergence, plus a generously long training time.**"
   ]
  },
  {
   "cell_type": "code",
   "execution_count": 82,
   "metadata": {},
   "outputs": [],
   "source": [
    "optimizer = torch.optim.SGD(model.parameters(),lr=0.001, weight_decay=1e-3, momentum=0.8)"
   ]
  },
  {
   "cell_type": "markdown",
   "metadata": {},
   "source": [
    "## Define Training Step\n",
    "\n",
    "We define a function to return a single training step defining one iteration of our model.\n",
    "\n",
    "    Forward pass output logits and softmax probabilities. \n",
    "\n",
    "    Record the softmax probabilities to track accuracy. \n",
    "\n",
    "    Pass output logits to loss function to compute loss.\n",
    "    \n",
    "    Call backwards pass with loss function (backpropogate errors).\n",
    "    \n",
    "    Tell optimizer to apply one update step to network parameters.\n",
    "    \n",
    "    Zero the accumulated gradient in the optimizer for next iteration.\n"
   ]
  },
  {
   "cell_type": "code",
   "execution_count": 83,
   "metadata": {},
   "outputs": [],
   "source": [
    "# define function to create a single step of the training phase\n",
    "def make_train_step(model, criterion, optimizer):\n",
    "    \n",
    "    # define the training step of the training phase\n",
    "    def train_step(X,Y):\n",
    "        \n",
    "        # forward pass\n",
    "        output_logits, output_softmax = model(X)\n",
    "        predictions = torch.argmax(output_softmax,dim=1)\n",
    "        accuracy = torch.sum(Y==predictions)/float(len(Y))\n",
    "        \n",
    "        # compute loss on logits because nn.CrossEntropyLoss implements log softmax\n",
    "        loss = criterion(output_logits, Y) \n",
    "        \n",
    "        # compute gradients for the optimizer to use \n",
    "        loss.backward()\n",
    "        \n",
    "        # update network parameters based on gradient stored (by calling loss.backward())\n",
    "        optimizer.step()\n",
    "        \n",
    "        # zero out gradients for next pass\n",
    "        # pytorch accumulates gradients from backwards passes (convenient for RNNs)\n",
    "        optimizer.zero_grad() \n",
    "        \n",
    "        return loss.item(), accuracy*100\n",
    "    return train_step"
   ]
  },
  {
   "cell_type": "markdown",
   "metadata": {},
   "source": [
    "## Define Validation Step\n",
    "\n",
    "Define a function to return a single validation step on the 10% X,y tensor pair to get an idea of our model's generalizibiliy as it trains so we know whether and when to stop it and tune hyperparameters. **Make sure we _do not_ update network parameters during validation by setting model to validation mode. Do not waste resources computing gradients in validation phase by setting torch.no_grad().**"
   ]
  },
  {
   "cell_type": "code",
   "execution_count": 84,
   "metadata": {},
   "outputs": [],
   "source": [
    "def make_validate_fnc(model,criterion):\n",
    "    def validate(X,Y):\n",
    "        \n",
    "        # don't want to update any network parameters on validation passes: don't need gradient\n",
    "        # wrap in torch.no_grad to save memory and compute in validation phase: \n",
    "        with torch.no_grad(): \n",
    "            \n",
    "            # set model to validation phase i.e. turn off dropout and batchnorm layers \n",
    "            model.eval()\n",
    "      \n",
    "            # get the model's predictions on the validation set\n",
    "            output_logits, output_softmax = model(X)\n",
    "            predictions = torch.argmax(output_softmax,dim=1)\n",
    "\n",
    "            # calculate the mean accuracy over the entire validation set\n",
    "            accuracy = torch.sum(Y==predictions)/float(len(Y))\n",
    "            \n",
    "            # compute error from logits (nn.crossentropy implements softmax)\n",
    "            loss = criterion(output_logits,Y)\n",
    "            \n",
    "        return loss.item(), accuracy*100, predictions\n",
    "    return validate"
   ]
  },
  {
   "cell_type": "markdown",
   "metadata": {},
   "source": [
    "# Make Checkpoint Functions\n",
    "It's a good idea to save checkpoints of the model state after each epoch. We'll then interrupt training when satisfied with the model's performance and load the appropriate model binary. \n",
    "\n",
    "- Resume training if hardware/software fails\n",
    "- Save compute re-training by training from checkpoint after tuning\n",
    "- Implement early stopping easily by keeping snapshot of most performant version of model\n",
    "- Google Colab throttles GPU usage eventually; can't keep re-training from scratch indefinitely"
   ]
  },
  {
   "cell_type": "code",
   "execution_count": 85,
   "metadata": {},
   "outputs": [],
   "source": [
    "def make_save_checkpoint(): \n",
    "    def save_checkpoint(optimizer, model, epoch, filename):\n",
    "        checkpoint_dict = {\n",
    "            'optimizer': optimizer.state_dict(),\n",
    "            'model': model.state_dict(),\n",
    "            'epoch': epoch\n",
    "        }\n",
    "        torch.save(checkpoint_dict, filename)\n",
    "    return save_checkpoint\n",
    "\n",
    "def load_checkpoint(optimizer, model, filename):\n",
    "    checkpoint_dict = torch.load(filename)\n",
    "    epoch = checkpoint_dict['epoch']\n",
    "    model.load_state_dict(checkpoint_dict['model'])\n",
    "    if optimizer is not None:\n",
    "        optimizer.load_state_dict(checkpoint_dict['optimizer'])\n",
    "    return epoch"
   ]
  },
  {
   "cell_type": "code",
   "execution_count": 86,
   "metadata": {},
   "outputs": [
    {
     "name": "stdout",
     "output_type": "stream",
     "text": [
      "1815\n",
      "1815\n"
     ]
    }
   ],
   "source": [
    "print(X_train.shape[0])\n",
    "print(y_train.shape[0])\n"
   ]
  },
  {
   "cell_type": "markdown",
   "metadata": {},
   "source": [
    "# Build Training Loop\n",
    "\n",
    "Build the complete training loop using the training and validation step functions. \n",
    "\n",
    "This model is not reasonable to train on CPU, but it's a good way to check if the model compiled successfully. I'm using RTX 2060 6 GB. This model is pretty big (1,643,077 params to learn if I've checked the math correctly) but trains to convergence within ~10 minutes on a K80.\n",
    "\n",
    "Pick the number of epochs (complete pass of all training samples) to use that is higher than reasonable so the model does not terminate just before convergence - I manually stopped it when it converges. \n",
    "\n",
    "**Minibatch size:** [From Yann LeCun's twitter](https://twitter.com/ylecun/status/989610208497360896?lang=en) (with LeCun facebook comment appended) [citing this 2018 minibatch paper](https://arxiv.org/abs/1804.07612):\n",
    "\n",
    "\n",
    "    \n",
    "    \"Training with large minibatches is bad for your health. More importantly, it's bad for your test error. Friends dont \n",
    "    let friends use minibatches larger than 32. Let's face it: the only people have switched to minibatch sizes larger than one since 2012 is because GPUs are inefficient for batch sizes smaller than 32. That's a terrible reason. It just means our hardware sucks.\" \n",
    "    \n",
    "\n",
    "\n",
    "<br>\n",
    "That's about it for the logic. Here's the full training loop:\n",
    "\n",
    "    --Setup--\n",
    "    \n",
    "    Instantiate model.\n",
    "\n",
    "    Instantiate training and validation steps with model, loss function, and optimizer. \n",
    "    \n",
    "    Move model to GPU.\n",
    "    \n",
    "        --Epoch--\n",
    "    \n",
    "        Set model to train mode after each post-epoch validation phase completes.\n",
    "    \n",
    "        Shuffle the training set for each  epoch, reset epoch loss and accuracy. \n",
    "        \n",
    "            --Iteration--\n",
    "    \n",
    "            Create X_train, y_train minibatch tensors for each iteration and move tensors to GPU.\n",
    "            \n",
    "            Take 1 train step with X_train, y_train minibatch tensors.\n",
    "\n",
    "            Aggregate accuracy and loss from each iteration, but only record after each epoch. \n",
    "            \n",
    "        --Epoch--\n",
    "\n",
    "        Compute and record validation accuracy for the entire epoch to keep track of learning progress. \n",
    "\n",
    "        Print training metrics after each epoch."
   ]
  },
  {
   "cell_type": "code",
   "execution_count": 89,
   "metadata": {},
   "outputs": [
    {
     "name": "stdout",
     "output_type": "stream",
     "text": [
      "cuda selected\n",
      "Number of trainable params:  1643077\n"
     ]
    }
   ],
   "source": [
    "# get training set size to calculate # iterations and minibatch indices\n",
    "train_size = X_train.shape[0]\n",
    "\n",
    "# pick minibatch size (of 32... always)\n",
    "minibatch = 32\n",
    "\n",
    "# set device to GPU\n",
    "device = 'cuda' if torch.cuda.is_available() else 'cpu'\n",
    "print(f'{device} selected')\n",
    "\n",
    "# instantiate model and move to GPU for training\n",
    "model = parallel_all_you_want(num_emotions=len(emotions_dict)).to(device) \n",
    "print('Number of trainable params: ',sum(p.numel() for p in model.parameters()) )\n",
    "\n",
    "# encountered bugs in google colab only, unless I explicitly defined optimizer in this cell...\n",
    "optimizer = torch.optim.SGD(model.parameters(),lr=0.01, weight_decay=1e-3, momentum=0.8)\n",
    "\n",
    "# instantiate the checkpoint save function\n",
    "save_checkpoint = make_save_checkpoint()\n",
    "\n",
    "# instantiate the training step function \n",
    "train_step = make_train_step(model, criterion, optimizer=optimizer)\n",
    "\n",
    "# instantiate the validation loop function\n",
    "validate = make_validate_fnc(model,criterion)\n",
    "\n",
    "# instantiate lists to hold scalar performance metrics to plot later\n",
    "train_losses=[]\n",
    "valid_losses = []\n",
    "\n",
    "# create training loop for one complete epoch (entire training set)\n",
    "def train(optimizer, model, num_epochs, X_train, Y_train, X_valid, Y_valid):\n",
    "\n",
    "    for epoch in range(num_epochs):\n",
    "        \n",
    "        # set model to train phase\n",
    "        model.train()         \n",
    "        \n",
    "        # shuffle entire training set in each epoch to randomize minibatch order\n",
    "        train_indices = np.random.permutation(train_size) \n",
    "        \n",
    "        # shuffle the training set for each epoch:\n",
    "        X_train = X_train[train_indices,:,:,:] \n",
    "        Y_train = Y_train[train_indices]\n",
    "\n",
    "        # instantiate scalar values to keep track of progress after each epoch so we can stop training when appropriate \n",
    "        epoch_acc = 0 \n",
    "        epoch_loss = 0\n",
    "        num_iterations = int(train_size / minibatch)\n",
    "        \n",
    "        # create a loop for each minibatch of 32 samples:\n",
    "        for i in range(num_iterations):\n",
    "            \n",
    "            # we have to track and update minibatch position for the current minibatch\n",
    "            # if we take a random batch position from a set, we almost certainly will skip some of the data in that set\n",
    "            # track minibatch position based on iteration number:\n",
    "            batch_start = i * minibatch \n",
    "            # ensure we don't go out of the bounds of our training set:\n",
    "            batch_end = min(batch_start + minibatch, train_size) \n",
    "            # ensure we don't have an index error\n",
    "            actual_batch_size = batch_end-batch_start \n",
    "            \n",
    "            # get training minibatch with all channnels and 2D feature dims\n",
    "            X = X_train[batch_start:batch_end,:,:,:] \n",
    "            # get training minibatch labels \n",
    "            Y = Y_train[batch_start:batch_end] \n",
    "\n",
    "            # instantiate training tensors\n",
    "            X_tensor = torch.tensor(X, device=device).float() \n",
    "            Y_tensor = torch.tensor(Y, dtype=torch.long,device=device)\n",
    "            \n",
    "            # Pass input tensors thru 1 training step (fwd+backwards pass)\n",
    "            loss, acc = train_step(X_tensor,Y_tensor) \n",
    "            \n",
    "            # aggregate batch accuracy to measure progress of entire epoch\n",
    "            epoch_acc += acc * actual_batch_size / train_size\n",
    "            epoch_loss += loss * actual_batch_size / train_size\n",
    "            \n",
    "            # keep track of the iteration to see if the model's too slow\n",
    "            print('\\r'+f'Epoch {epoch}: iteration {i}/{num_iterations}',end='')\n",
    "        \n",
    "        # create tensors from validation set\n",
    "        X_valid_tensor = torch.tensor(X_valid,device=device).float()\n",
    "        Y_valid_tensor = torch.tensor(Y_valid,dtype=torch.long,device=device)\n",
    "        \n",
    "        # calculate validation metrics to keep track of progress; don't need predictions now\n",
    "        valid_loss, valid_acc, _ = validate(X_valid_tensor,Y_valid_tensor)\n",
    "        \n",
    "        # accumulate scalar performance metrics at each epoch to track and plot later\n",
    "        train_losses.append(epoch_loss)\n",
    "        valid_losses.append(valid_loss)\n",
    "                  \n",
    "        # Save checkpoint of the model\n",
    "        checkpoint_filename = 'D:\\InfantCryClassifier\\checkpoints\\parallel_all_you_wantFINAL-{:03d}.pkl'.format(epoch)\n",
    "        save_checkpoint(optimizer, model, epoch, checkpoint_filename)\n",
    "        \n",
    "        # keep track of each epoch's progress\n",
    "        print(f'\\nEpoch {epoch} --- loss:{epoch_loss:.3f}, Epoch accuracy:{epoch_acc:.2f}%, Validation loss:{valid_loss:.3f}, Validation accuracy:{valid_acc:.2f}%')\n"
   ]
  },
  {
   "cell_type": "markdown",
   "metadata": {},
   "source": [
    "### Train Model"
   ]
  },
  {
   "cell_type": "code",
   "execution_count": 90,
   "metadata": {},
   "outputs": [
    {
     "name": "stdout",
     "output_type": "stream",
     "text": [
      "Epoch 0: iteration 55/56\n",
      "Epoch 0 --- loss:6.361, Epoch accuracy:72.56%, Validation loss:1.746, Validation accuracy:82.61%\n",
      "Epoch 1: iteration 55/56\n",
      "Epoch 1 --- loss:1.212, Epoch accuracy:75.87%, Validation loss:1.282, Validation accuracy:82.61%\n",
      "Epoch 2: iteration 55/56\n",
      "Epoch 2 --- loss:0.988, Epoch accuracy:77.52%, Validation loss:1.172, Validation accuracy:82.61%\n",
      "Epoch 3: iteration 55/56\n",
      "Epoch 3 --- loss:0.785, Epoch accuracy:78.51%, Validation loss:1.137, Validation accuracy:67.83%\n",
      "Epoch 4: iteration 55/56\n",
      "Epoch 4 --- loss:0.719, Epoch accuracy:81.82%, Validation loss:0.951, Validation accuracy:79.57%\n",
      "Epoch 5: iteration 55/56\n",
      "Epoch 5 --- loss:0.723, Epoch accuracy:80.06%, Validation loss:1.140, Validation accuracy:83.04%\n",
      "Epoch 6: iteration 55/56\n",
      "Epoch 6 --- loss:0.621, Epoch accuracy:82.04%, Validation loss:1.126, Validation accuracy:82.61%\n",
      "Epoch 7: iteration 55/56\n",
      "Epoch 7 --- loss:0.556, Epoch accuracy:84.08%, Validation loss:1.346, Validation accuracy:69.57%\n",
      "Epoch 8: iteration 55/56\n",
      "Epoch 8 --- loss:0.437, Epoch accuracy:85.67%, Validation loss:1.124, Validation accuracy:84.78%\n",
      "Epoch 9: iteration 55/56\n",
      "Epoch 9 --- loss:0.424, Epoch accuracy:85.12%, Validation loss:1.250, Validation accuracy:75.65%\n",
      "Epoch 10: iteration 55/56\n",
      "Epoch 10 --- loss:0.368, Epoch accuracy:87.55%, Validation loss:1.339, Validation accuracy:69.13%\n",
      "Epoch 11: iteration 55/56\n",
      "Epoch 11 --- loss:0.333, Epoch accuracy:87.60%, Validation loss:1.279, Validation accuracy:79.57%\n",
      "Epoch 12: iteration 55/56\n",
      "Epoch 12 --- loss:0.287, Epoch accuracy:89.15%, Validation loss:1.378, Validation accuracy:81.30%\n",
      "Epoch 13: iteration 55/56\n",
      "Epoch 13 --- loss:0.245, Epoch accuracy:91.24%, Validation loss:1.395, Validation accuracy:69.57%\n",
      "Epoch 14: iteration 55/56\n",
      "Epoch 14 --- loss:0.178, Epoch accuracy:93.06%, Validation loss:1.458, Validation accuracy:76.09%\n",
      "Epoch 15: iteration 55/56\n",
      "Epoch 15 --- loss:0.205, Epoch accuracy:92.67%, Validation loss:1.372, Validation accuracy:76.96%\n",
      "Epoch 16: iteration 55/56\n",
      "Epoch 16 --- loss:0.136, Epoch accuracy:93.88%, Validation loss:1.544, Validation accuracy:77.83%\n",
      "Epoch 17: iteration 55/56\n",
      "Epoch 17 --- loss:0.105, Epoch accuracy:94.93%, Validation loss:1.593, Validation accuracy:76.52%\n",
      "Epoch 18: iteration 55/56\n",
      "Epoch 18 --- loss:0.146, Epoch accuracy:94.60%, Validation loss:1.480, Validation accuracy:69.57%\n",
      "Epoch 19: iteration 55/56\n",
      "Epoch 19 --- loss:0.157, Epoch accuracy:94.60%, Validation loss:2.261, Validation accuracy:57.83%\n",
      "Epoch 20: iteration 55/56\n",
      "Epoch 20 --- loss:0.146, Epoch accuracy:94.05%, Validation loss:1.690, Validation accuracy:71.74%\n",
      "Epoch 21: iteration 55/56\n",
      "Epoch 21 --- loss:0.068, Epoch accuracy:96.36%, Validation loss:2.013, Validation accuracy:72.61%\n",
      "Epoch 22: iteration 55/56\n",
      "Epoch 22 --- loss:0.031, Epoch accuracy:97.85%, Validation loss:1.863, Validation accuracy:73.48%\n",
      "Epoch 23: iteration 55/56\n",
      "Epoch 23 --- loss:0.057, Epoch accuracy:96.80%, Validation loss:1.658, Validation accuracy:78.70%\n",
      "Epoch 24: iteration 55/56\n",
      "Epoch 24 --- loss:0.041, Epoch accuracy:97.36%, Validation loss:1.979, Validation accuracy:76.96%\n",
      "Epoch 25: iteration 55/56\n",
      "Epoch 25 --- loss:0.040, Epoch accuracy:97.30%, Validation loss:1.784, Validation accuracy:76.96%\n",
      "Epoch 26: iteration 55/56\n",
      "Epoch 26 --- loss:0.015, Epoch accuracy:98.35%, Validation loss:2.240, Validation accuracy:72.61%\n",
      "Epoch 27: iteration 55/56\n",
      "Epoch 27 --- loss:0.020, Epoch accuracy:98.24%, Validation loss:2.031, Validation accuracy:75.65%\n",
      "Epoch 28: iteration 55/56\n",
      "Epoch 28 --- loss:0.015, Epoch accuracy:98.46%, Validation loss:2.250, Validation accuracy:73.91%\n",
      "Epoch 29: iteration 55/56\n",
      "Epoch 29 --- loss:0.017, Epoch accuracy:98.24%, Validation loss:2.068, Validation accuracy:75.22%\n",
      "Epoch 30: iteration 55/56\n",
      "Epoch 30 --- loss:0.012, Epoch accuracy:98.51%, Validation loss:2.100, Validation accuracy:77.39%\n",
      "Epoch 31: iteration 55/56\n",
      "Epoch 31 --- loss:0.008, Epoch accuracy:98.73%, Validation loss:2.525, Validation accuracy:72.17%\n",
      "Epoch 32: iteration 55/56\n",
      "Epoch 32 --- loss:0.004, Epoch accuracy:98.73%, Validation loss:2.266, Validation accuracy:73.04%\n",
      "Epoch 33: iteration 55/56\n",
      "Epoch 33 --- loss:0.004, Epoch accuracy:98.73%, Validation loss:2.343, Validation accuracy:73.48%\n",
      "Epoch 34: iteration 55/56\n",
      "Epoch 34 --- loss:0.008, Epoch accuracy:98.51%, Validation loss:2.328, Validation accuracy:73.48%\n",
      "Epoch 35: iteration 55/56\n",
      "Epoch 35 --- loss:0.004, Epoch accuracy:98.73%, Validation loss:2.408, Validation accuracy:73.91%\n",
      "Epoch 36: iteration 55/56\n",
      "Epoch 36 --- loss:0.005, Epoch accuracy:98.73%, Validation loss:2.373, Validation accuracy:72.61%\n",
      "Epoch 37: iteration 55/56\n",
      "Epoch 37 --- loss:0.003, Epoch accuracy:98.73%, Validation loss:2.259, Validation accuracy:75.65%\n",
      "Epoch 38: iteration 55/56\n",
      "Epoch 38 --- loss:0.003, Epoch accuracy:98.73%, Validation loss:2.219, Validation accuracy:74.35%\n",
      "Epoch 39: iteration 55/56\n",
      "Epoch 39 --- loss:0.002, Epoch accuracy:98.73%, Validation loss:2.241, Validation accuracy:74.35%\n",
      "Epoch 40: iteration 55/56\n",
      "Epoch 40 --- loss:0.002, Epoch accuracy:98.73%, Validation loss:2.371, Validation accuracy:74.35%\n",
      "Epoch 41: iteration 55/56\n",
      "Epoch 41 --- loss:0.003, Epoch accuracy:98.73%, Validation loss:2.348, Validation accuracy:73.91%\n",
      "Epoch 42: iteration 55/56\n",
      "Epoch 42 --- loss:0.003, Epoch accuracy:98.73%, Validation loss:2.360, Validation accuracy:73.91%\n",
      "Epoch 43: iteration 55/56\n",
      "Epoch 43 --- loss:0.003, Epoch accuracy:98.68%, Validation loss:2.306, Validation accuracy:73.91%\n",
      "Epoch 44: iteration 55/56\n",
      "Epoch 44 --- loss:0.003, Epoch accuracy:98.73%, Validation loss:2.249, Validation accuracy:74.35%\n",
      "Epoch 45: iteration 55/56\n",
      "Epoch 45 --- loss:0.008, Epoch accuracy:98.51%, Validation loss:2.645, Validation accuracy:70.43%\n",
      "Epoch 46: iteration 55/56\n",
      "Epoch 46 --- loss:0.006, Epoch accuracy:98.68%, Validation loss:2.250, Validation accuracy:74.78%\n",
      "Epoch 47: iteration 55/56\n",
      "Epoch 47 --- loss:0.003, Epoch accuracy:98.73%, Validation loss:2.357, Validation accuracy:74.78%\n",
      "Epoch 48: iteration 55/56\n",
      "Epoch 48 --- loss:0.004, Epoch accuracy:98.68%, Validation loss:2.093, Validation accuracy:78.70%\n",
      "Epoch 49: iteration 55/56\n",
      "Epoch 49 --- loss:0.005, Epoch accuracy:98.68%, Validation loss:2.290, Validation accuracy:74.78%\n"
     ]
    }
   ],
   "source": [
    "# choose number of epochs higher than reasonable so we can manually stop training \n",
    "num_epochs = 50\n",
    "\n",
    "# train it!\n",
    "train(optimizer, model, num_epochs, X_train, y_train, X_valid, y_valid)"
   ]
  },
  {
   "cell_type": "markdown",
   "metadata": {},
   "source": [
    "# Check the Loss Curve's Behaviour\n",
    "Let's see if we missed something egregious during training. Note that validation sets achieved 78-82% accuracy depending on the random split of data (checked after tuning; random seed was specified before splitting data while tuning the model)."
   ]
  },
  {
   "cell_type": "code",
   "execution_count": null,
   "metadata": {},
   "outputs": [
    {
     "data": {
      "image/png": "[encoded data removed]",
      "text/plain": [
       "<Figure size 640x480 with 1 Axes>"
      ]
     },
     "metadata": {},
     "output_type": "display_data"
    }
   ],
   "source": [
    "plt.title('Loss Curve for Parallel is All You Want Model')\n",
    "plt.ylabel('Loss', fontsize=16)\n",
    "plt.xlabel('Epoch', fontsize=16)\n",
    "plt.plot(train_losses[:],'b')\n",
    "plt.plot(valid_losses[:],'r')\n",
    "plt.legend(['Training loss','Validation loss'])\n",
    "plt.show()"
   ]
  },
  {
   "cell_type": "markdown",
   "metadata": {},
   "source": [
    "# Load the Trained Model from Checkpoint for Evaluation"
   ]
  },
  {
   "cell_type": "code",
   "execution_count": null,
   "metadata": {},
   "outputs": [
    {
     "name": "stdout",
     "output_type": "stream",
     "text": [
      "Loaded model from D:\\InfantCryClassifier\\checkpoints\\parallel_all_you_wantFINAL-049.pkl\n"
     ]
    }
   ],
   "source": [
    "load_folder = 'D:\\InfantCryClassifier\\checkpoints'  \n",
    "\n",
    "# pick the epoch to load\n",
    "epoch = '049'\n",
    "model_name = f'parallel_all_you_wantFINAL-{epoch}.pkl'\n",
    "\n",
    "# make full load path\n",
    "load_path = os.path.join(load_folder, model_name)\n",
    "\n",
    "## instantiate empty model and populate with params from binary \n",
    "model = parallel_all_you_want(5)\n",
    "load_checkpoint(optimizer, model, load_path)\n",
    "\n",
    "print(f'Loaded model from {load_path}')"
   ]
  },
  {
   "cell_type": "markdown",
   "metadata": {},
   "source": [
    "# Evaluate the Model on Hold-Out Test Set\n",
    "Fingers crossed for generalizability."
   ]
  },
  {
   "cell_type": "code",
   "execution_count": null,
   "metadata": {},
   "outputs": [
    {
     "name": "stdout",
     "output_type": "stream",
     "text": [
      "Test accuracy is 80.42%\n"
     ]
    }
   ],
   "source": [
    "# reinitialize validation function with model from chosen checkpoint\n",
    "validate = make_validate_fnc(model,criterion)\n",
    "\n",
    "# Convert 4D test feature set array to tensor and move to GPU\n",
    "X_test_tensor = torch.tensor(X_test).float()\n",
    "# Convert 4D test label set array to tensor and move to GPU\n",
    "y_test_tensor = torch.tensor(y_test,dtype=torch.long)\n",
    "\n",
    "# Get the model's performance metrics using the validation function we defined\n",
    "test_loss, test_acc, predicted_emotions = validate(X_test_tensor,y_test_tensor)\n",
    "\n",
    "print(f'Test accuracy is {test_acc:.2f}%')"
   ]
  },
  {
   "cell_type": "markdown",
   "metadata": {},
   "source": [
    "# Analyze Performance on Test Set"
   ]
  },
  {
   "cell_type": "code",
   "execution_count": null,
   "metadata": {},
   "outputs": [
    {
     "data": {
      "image/png": "[encoded data removed]",
      "text/plain": [
       "<Figure size 1500x500 with 4 Axes>"
      ]
     },
     "metadata": {},
     "output_type": "display_data"
    }
   ],
   "source": [
    "from sklearn.metrics import confusion_matrix\n",
    "import seaborn as sn\n",
    "\n",
    "# because model tested on GPU, move prediction tensor to CPU then convert to array\n",
    "predicted_emotions = predicted_emotions.cpu().numpy()\n",
    "# use labels from test set\n",
    "emotions_groundtruth = y_test\n",
    "\n",
    "# build confusion matrix and normalized confusion matrix\n",
    "conf_matrix = confusion_matrix(emotions_groundtruth, predicted_emotions)\n",
    "conf_matrix_norm = confusion_matrix(emotions_groundtruth, predicted_emotions,normalize='true')\n",
    "\n",
    "# set labels for matrix axes from emotions\n",
    "emotion_names = [emotion for emotion in emotions_dict.values()]\n",
    "\n",
    "# make a confusion matrix with labels using a DataFrame\n",
    "confmatrix_df = pd.DataFrame(conf_matrix, index=emotion_names, columns=emotion_names)\n",
    "confmatrix_df_norm = pd.DataFrame(conf_matrix_norm, index=emotion_names, columns=emotion_names)\n",
    "\n",
    "# plot confusion matrices\n",
    "plt.figure(figsize=(15,5))\n",
    "sn.set(font_scale=1.0) # emotion label and title size\n",
    "plt.subplot(1,2,1)\n",
    "plt.title('Confusion Matrix')\n",
    "sn.heatmap(confmatrix_df, annot=True, annot_kws={\"size\": 13},fmt='g') #annot_kws is value font\n",
    "plt.subplot(1,2,2)\n",
    "plt.title('Normalized Confusion Matrix')\n",
    "sn.heatmap(confmatrix_df_norm, annot=True, annot_kws={\"size\": 13}) #annot_kws is value font\n",
    "\n",
    "plt.show()"
   ]
  }
 ],
 "metadata": {
  "kernelspec": {
   "display_name": "Python 3",
   "language": "python",
   "name": "python3"
  },
  "language_info": {
   "codemirror_mode": {
    "name": "ipython",
    "version": 3
   },
   "file_extension": ".py",
   "mimetype": "text/x-python",
   "name": "python",
   "nbconvert_exporter": "python",
   "pygments_lexer": "ipython3",
   "version": "3.9.16"
  },
  "orig_nbformat": 4
 },
 "nbformat": 4,
 "nbformat_minor": 2
}
